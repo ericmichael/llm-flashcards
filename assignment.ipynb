{
 "cells": [
  {
   "cell_type": "markdown",
   "id": "263638f3",
   "metadata": {
    "slideshow": {
     "slide_type": "slide"
    }
   },
   "source": [
    "# Homework: Flashcard App\n",
    "* **Created by:** Eric Martinez\n",
    "* **For:** CSCI 4341 - Special Topics in CS\n",
    "* **At:** University of Texas Rio-Grande Valley"
   ]
  },
  {
   "cell_type": "markdown",
   "id": "05a2f87a",
   "metadata": {
    "slideshow": {
     "slide_type": "slide"
    }
   },
   "source": [
    "## Description\n",
    "\n",
    "- Create a Gradio app to help people study for any subject!\n",
    "- User's of the app should be able to enter source material or topics and that app should generate flash cards in CSV format!"
   ]
  },
  {
   "cell_type": "markdown",
   "id": "c803daad",
   "metadata": {
    "slideshow": {
     "slide_type": "slide"
    }
   },
   "source": [
    "## Step 0: Setup your `.env` file locally"
   ]
  },
  {
   "cell_type": "markdown",
   "id": "b79d72d7",
   "metadata": {
    "slideshow": {
     "slide_type": "subslide"
    }
   },
   "source": [
    "Setup your `OPENAI_API_BASE` key and `OPENAI_API_KEY` in a file `.env` in this same folder."
   ]
  },
  {
   "cell_type": "markdown",
   "id": "2ff840cd",
   "metadata": {
    "slideshow": {
     "slide_type": "fragment"
    }
   },
   "source": [
    "```sh\n",
    "# example .env contents (copy paste this into a .env file)\n",
    "OPENAI_API_BASE=yourapibase\n",
    "OPENAI_API_KEY=yourapikey\n",
    "```"
   ]
  },
  {
   "cell_type": "markdown",
   "id": "55707ce4",
   "metadata": {
    "slideshow": {
     "slide_type": "subslide"
    }
   },
   "source": [
    "Install the required dependencies."
   ]
  },
  {
   "cell_type": "code",
   "execution_count": null,
   "id": "f99f2702",
   "metadata": {
    "slideshow": {
     "slide_type": "fragment"
    }
   },
   "outputs": [],
   "source": [
    "%pip install -q -r requirements.txt"
   ]
  },
  {
   "cell_type": "markdown",
   "id": "798a5a3f",
   "metadata": {
    "slideshow": {
     "slide_type": "slide"
    }
   },
   "source": [
    "## Step 1: Prototype"
   ]
  },
  {
   "cell_type": "markdown",
   "id": "ac71c1fa",
   "metadata": {
    "slideshow": {
     "slide_type": "slide"
    }
   },
   "source": [
    "Use the playground to draft a prototype.\n",
    "\n",
    "- Start simple\n",
    "- Identify areas that will need improvement\n",
    "- Don't use an elaborate prompt yet"
   ]
  },
  {
   "cell_type": "markdown",
   "id": "d3e54c8c",
   "metadata": {
    "slideshow": {
     "slide_type": "slide"
    }
   },
   "source": [
    "## Step 2: Iterate by using a known good prompt structure\n",
    "\n",
    "Reference:\n",
    "- Supply 'priming' information - you are an (expert, assistant, programmer, ...)\n",
    "- Supply general task information and instructions\n",
    "- Supply format constraints\n",
    "- Supply examples: known as _in-context learning_\n",
    "- Supply additional context useful for solving the problem\n",
    "- Supply the current task description"
   ]
  },
  {
   "cell_type": "markdown",
   "id": "205dc388",
   "metadata": {
    "slideshow": {
     "slide_type": "slide"
    }
   },
   "source": [
    "## Step 3: Automate"
   ]
  },
  {
   "cell_type": "markdown",
   "id": "1b7f61ed",
   "metadata": {
    "slideshow": {
     "slide_type": "slide"
    }
   },
   "source": [
    "Time to get to business, we know we will be using OpenAI so let's setup the basic stuff we will need."
   ]
  },
  {
   "cell_type": "code",
   "execution_count": null,
   "id": "91feeebb",
   "metadata": {
    "slideshow": {
     "slide_type": "slide"
    }
   },
   "outputs": [],
   "source": [
    "from dotenv import load_dotenv\n",
    "\n",
    "load_dotenv()  # take environment variables from .env.\n",
    "\n",
    "import openai\n",
    "\n",
    "# Define a function to get the AI's reply using the OpenAI API\n",
    "def get_ai_reply(message, model=\"gpt-3.5-turbo\", system_message=None, temperature=0):\n",
    "    # Initialize the messages list\n",
    "    messages = []\n",
    "    \n",
    "    # Add the system message to the messages list\n",
    "    if system_message is not None:\n",
    "        messages += [{\"role\": \"system\", \"content\": system_message}]\n",
    "    \n",
    "    # Add the user's message to the messages list\n",
    "    messages += [{\"role\": \"user\", \"content\": message}]\n",
    "    \n",
    "    # Make an API call to the OpenAI ChatCompletion endpoint with the model and messages\n",
    "    completion = openai.ChatCompletion.create(\n",
    "        model=model,\n",
    "        messages=messages,\n",
    "        temperature=temperature\n",
    "    )\n",
    "    \n",
    "    # Extract and return the AI's response from the API response\n",
    "    return completion.choices[0].message.content.strip()"
   ]
  },
  {
   "cell_type": "markdown",
   "id": "cdde973f",
   "metadata": {
    "slideshow": {
     "slide_type": "slide"
    }
   },
   "source": [
    "Use Python to write a function that returns flash cards given some user input."
   ]
  },
  {
   "cell_type": "code",
   "execution_count": null,
   "id": "caefdaab",
   "metadata": {},
   "outputs": [],
   "source": [
    "def text_to_flashcards(text):\n",
    "    prompt=\"\"\"\n",
    "    <replace this with your prompt>\n",
    "    \"\"\"\n",
    "\n",
    "    csv_text = get_ai_reply(text, system_message=prompt) # get csv from openai\n",
    "    return csv_text\n",
    "\n",
    "text = \"\"\"\n",
    "<replace this with your source data or guidance for the topic>\n",
    "\"\"\"\n",
    "print(text_to_flashcards(text))"
   ]
  },
  {
   "cell_type": "markdown",
   "id": "67b07014",
   "metadata": {
    "slideshow": {
     "slide_type": "slide"
    }
   },
   "source": [
    "## Step 4: Validation"
   ]
  },
  {
   "cell_type": "markdown",
   "id": "9b18bb81",
   "metadata": {
    "slideshow": {
     "slide_type": "slide"
    }
   },
   "source": [
    "- Perform some manual checking and use your eyeballs to inspect the results.\n",
    "- These examples MUST be realistic\n",
    "- If the results don't look good, then adjust your prompt."
   ]
  },
  {
   "cell_type": "code",
   "execution_count": null,
   "id": "31af3548",
   "metadata": {},
   "outputs": [],
   "source": [
    "text = \"\"\"\n",
    "<replace this with your source data or guidance for the topic>\n",
    "\"\"\"\n",
    "print(text_to_flashcards(text))"
   ]
  },
  {
   "cell_type": "code",
   "execution_count": null,
   "id": "49edc094",
   "metadata": {},
   "outputs": [],
   "source": [
    "text = \"\"\"\n",
    "<replace this with your source data or guidance for the topic>\n",
    "\"\"\"\n",
    "print(text_to_flashcards(text))"
   ]
  },
  {
   "cell_type": "code",
   "execution_count": null,
   "id": "780951b3",
   "metadata": {},
   "outputs": [],
   "source": [
    "text = \"\"\"\n",
    "<replace this with your source data or guidance for the topic>\n",
    "\"\"\"\n",
    "print(text_to_flashcards(text))"
   ]
  },
  {
   "cell_type": "markdown",
   "id": "16706ee4",
   "metadata": {
    "slideshow": {
     "slide_type": "slide"
    }
   },
   "source": [
    "## Step 5: Tests (it is ok to do this after Step 6, if you want)"
   ]
  },
  {
   "cell_type": "markdown",
   "id": "7a1d089e",
   "metadata": {
    "slideshow": {
     "slide_type": "subslide"
    }
   },
   "source": [
    "- We don't know exactly what flashcards GPT may generate. \n",
    "- It will be incredibly difficult to have tests that check the cards themselves. If we were looking at the quality of the cards and trying to score them, this would be more of an example of validation.\n",
    "- What we can check, however, is whether or not the output is valid according to the formatting rules.\n"
   ]
  },
  {
   "cell_type": "code",
   "execution_count": null,
   "id": "617df1c3",
   "metadata": {
    "slideshow": {
     "slide_type": "slide"
    }
   },
   "outputs": [],
   "source": [
    "# Check that the output is at least a string\n",
    "\n",
    "text = \"\"\"\n",
    "<replace this with your source data or guidance for the topic>\n",
    "\"\"\"\n",
    "assert isinstance(text_to_flashcards(text), str)\n",
    "\n",
    "\n",
    "# TODO by you: Check output is a valid CSV\n",
    "\n",
    "# TODO by you: Check output headers match exactly what you expect\n",
    "\n",
    "# TODO by you: Ensure every flashcard has a value for front and back (not null)\n",
    "\n",
    "# TODO by you: Ensure every flashcard has non-empty value for front and back (not just whitespace characters)"
   ]
  },
  {
   "cell_type": "markdown",
   "id": "1d3ad094",
   "metadata": {
    "slideshow": {
     "slide_type": "slide"
    }
   },
   "source": [
    "## Step 6: Make the UI using Gradio"
   ]
  },
  {
   "cell_type": "markdown",
   "id": "76dd1350",
   "metadata": {},
   "source": [
    "**Your TODO**: Modify the example below to include your prompt and check to see if it works."
   ]
  },
  {
   "cell_type": "code",
   "execution_count": null,
   "id": "65f74dc3",
   "metadata": {},
   "outputs": [],
   "source": [
    "import gradio as gr\n",
    "\n",
    "def generate_flashcards(text):\n",
    "    csv_text = text_to_flashcards(text)\n",
    "    df = pd.read_csv(io.StringIO(csv_text)) # convert to pandas dataframe\n",
    "    csv_location = \"output.csv\" # output location\n",
    "    df.to_csv(csv_location) # save dataframe to csv at that location\n",
    "    return df, csv_location\n",
    "\n",
    "with gr.Blocks() as demo:\n",
    "    with gr.Tab(\"Flashcard Magic\"):\n",
    "        with gr.Row():\n",
    "            with gr.Column():\n",
    "                source_material = gr.Textbox(label=\"Source Material / Guidance\", lines=5)\n",
    "                btn = gr.Button(value =\"Generate Flashcards\")\n",
    "                table = gr.Dataframe(label=\"Results\")\n",
    "                csv_file = gr.File(label=\"Download (CSV)\", interactive=False)\n",
    "            btn.click(generate_flashcards, inputs = [source_material], outputs = [table, csv_file])\n",
    "    demo.launch(share=True)"
   ]
  },
  {
   "cell_type": "markdown",
   "id": "971657ea",
   "metadata": {
    "slideshow": {
     "slide_type": "slide"
    }
   },
   "source": [
    "## Step 7: Make an Anki deck about a topic\n",
    "\n",
    "- Pick some topic you are interested in\n",
    "- Generate at least 100 flashcards for that topic.\n",
    "- Download Anki [https://apps.ankiweb.net/](https://apps.ankiweb.net/)\n",
    "- Import your flashcards\n",
    "- Use AnkiWeb to publish your deck"
   ]
  },
  {
   "cell_type": "markdown",
   "id": "d985a98b",
   "metadata": {
    "slideshow": {
     "slide_type": "slide"
    }
   },
   "source": [
    "## Step 8: Submit to Github Classroom"
   ]
  },
  {
   "cell_type": "markdown",
   "id": "d58681c6",
   "metadata": {},
   "source": [
    "#### Add your changes to git, commit, push to Github Classroom"
   ]
  },
  {
   "cell_type": "code",
   "execution_count": null,
   "id": "d551a96a",
   "metadata": {},
   "outputs": [],
   "source": [
    "!git add assignment.ipynb"
   ]
  },
  {
   "cell_type": "code",
   "execution_count": null,
   "id": "da6a741c",
   "metadata": {},
   "outputs": [],
   "source": [
    "!git commit -m \"finished\""
   ]
  },
  {
   "cell_type": "code",
   "execution_count": null,
   "id": "18569e85",
   "metadata": {},
   "outputs": [],
   "source": [
    "!git push"
   ]
  },
  {
   "cell_type": "markdown",
   "id": "a8258ece",
   "metadata": {
    "slideshow": {
     "slide_type": "slide"
    }
   },
   "source": [
    "## Step 9: Submit to Blackboard\n",
    "\n",
    "- Submit the link to your AnkiWeb deck\n",
    "- Submit your Github username"
   ]
  }
 ],
 "metadata": {
  "celltoolbar": "Slideshow",
  "kernelspec": {
   "display_name": "Python 3 (ipykernel)",
   "language": "python",
   "name": "python3"
  },
  "language_info": {
   "codemirror_mode": {
    "name": "ipython",
    "version": 3
   },
   "file_extension": ".py",
   "mimetype": "text/x-python",
   "name": "python",
   "nbconvert_exporter": "python",
   "pygments_lexer": "ipython3",
   "version": "3.9.6"
  }
 },
 "nbformat": 4,
 "nbformat_minor": 5
}
